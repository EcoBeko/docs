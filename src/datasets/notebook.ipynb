{
 "metadata": {
  "language_info": {
   "codemirror_mode": {
    "name": "ipython",
    "version": 3
   },
   "file_extension": ".py",
   "mimetype": "text/x-python",
   "name": "python",
   "nbconvert_exporter": "python",
   "pygments_lexer": "ipython3",
   "version": "3.8.3"
  },
  "orig_nbformat": 2,
  "kernelspec": {
   "name": "python3",
   "display_name": "Python 3",
   "language": "python"
  }
 },
 "nbformat": 4,
 "nbformat_minor": 2,
 "cells": [
  {
   "cell_type": "code",
   "execution_count": 2,
   "metadata": {},
   "outputs": [],
   "source": [
    "import pandas as pd\n",
    "import bcrypt\n",
    "import uuid\n",
    "import random as rnd"
   ]
  },
  {
   "cell_type": "code",
   "execution_count": 3,
   "metadata": {},
   "outputs": [],
   "source": [
    "users = pd.read_csv(r\"users.csv\")"
   ]
  },
  {
   "cell_type": "code",
   "execution_count": 63,
   "metadata": {},
   "outputs": [
    {
     "output_type": "execute_result",
     "data": {
      "text/plain": [
       "                                     id first_name last_name    username  \\\n",
       "0  90d92239-0f76-48e5-a994-86b41bb32e0f      Donal     Annon     dannon0   \n",
       "1  80a9cacf-8ce7-4cf6-b6b2-1e8b4a28a265     Nadeen      Veck      nveck1   \n",
       "2  3bbdbdcc-5840-489b-97bc-f53de14307ad    Aeriela   Newbatt   anewbatt2   \n",
       "3  1ab1806b-3970-41e4-85c7-64aa3979b723      Alvan    Lusted    alusted3   \n",
       "4  92fc8001-e09d-4555-9df6-93a9754358c1      Wendi  McIlhone  wmcilhone4   \n",
       "\n",
       "                                            password  gender avatar  role  \\\n",
       "0  $2b$12$XOQUS7tXwVkTjI28LyqTGe8fI2ZkwBIhTY2etv5...  female   None  user   \n",
       "1  $2b$12$hv6sEbxwYZ5s5H/3QTwKruH3DHtmQrxYK2BFKLL...    male   None  user   \n",
       "2  $2b$12$t7TI1JA57RjgbQNCrbVs2.7I8PP6d1D.45CUnb4...  female   None  user   \n",
       "3  $2b$12$TPFubV3HAKz2/eTCA092NuLZSLZ5jI23zuLRSqq...  female   None  user   \n",
       "4  $2b$12$hr18abfxyyHW7rfmSgRFAOKUjBqJ7XlfIPHSVEo...  female   None  user   \n",
       "\n",
       "    status  \n",
       "0  enabled  \n",
       "1  enabled  \n",
       "2  enabled  \n",
       "3  enabled  \n",
       "4  enabled  "
      ],
      "text/html": "<div>\n<style scoped>\n    .dataframe tbody tr th:only-of-type {\n        vertical-align: middle;\n    }\n\n    .dataframe tbody tr th {\n        vertical-align: top;\n    }\n\n    .dataframe thead th {\n        text-align: right;\n    }\n</style>\n<table border=\"1\" class=\"dataframe\">\n  <thead>\n    <tr style=\"text-align: right;\">\n      <th></th>\n      <th>id</th>\n      <th>first_name</th>\n      <th>last_name</th>\n      <th>username</th>\n      <th>password</th>\n      <th>gender</th>\n      <th>avatar</th>\n      <th>role</th>\n      <th>status</th>\n    </tr>\n  </thead>\n  <tbody>\n    <tr>\n      <th>0</th>\n      <td>90d92239-0f76-48e5-a994-86b41bb32e0f</td>\n      <td>Donal</td>\n      <td>Annon</td>\n      <td>dannon0</td>\n      <td>$2b$12$XOQUS7tXwVkTjI28LyqTGe8fI2ZkwBIhTY2etv5...</td>\n      <td>female</td>\n      <td>None</td>\n      <td>user</td>\n      <td>enabled</td>\n    </tr>\n    <tr>\n      <th>1</th>\n      <td>80a9cacf-8ce7-4cf6-b6b2-1e8b4a28a265</td>\n      <td>Nadeen</td>\n      <td>Veck</td>\n      <td>nveck1</td>\n      <td>$2b$12$hv6sEbxwYZ5s5H/3QTwKruH3DHtmQrxYK2BFKLL...</td>\n      <td>male</td>\n      <td>None</td>\n      <td>user</td>\n      <td>enabled</td>\n    </tr>\n    <tr>\n      <th>2</th>\n      <td>3bbdbdcc-5840-489b-97bc-f53de14307ad</td>\n      <td>Aeriela</td>\n      <td>Newbatt</td>\n      <td>anewbatt2</td>\n      <td>$2b$12$t7TI1JA57RjgbQNCrbVs2.7I8PP6d1D.45CUnb4...</td>\n      <td>female</td>\n      <td>None</td>\n      <td>user</td>\n      <td>enabled</td>\n    </tr>\n    <tr>\n      <th>3</th>\n      <td>1ab1806b-3970-41e4-85c7-64aa3979b723</td>\n      <td>Alvan</td>\n      <td>Lusted</td>\n      <td>alusted3</td>\n      <td>$2b$12$TPFubV3HAKz2/eTCA092NuLZSLZ5jI23zuLRSqq...</td>\n      <td>female</td>\n      <td>None</td>\n      <td>user</td>\n      <td>enabled</td>\n    </tr>\n    <tr>\n      <th>4</th>\n      <td>92fc8001-e09d-4555-9df6-93a9754358c1</td>\n      <td>Wendi</td>\n      <td>McIlhone</td>\n      <td>wmcilhone4</td>\n      <td>$2b$12$hr18abfxyyHW7rfmSgRFAOKUjBqJ7XlfIPHSVEo...</td>\n      <td>female</td>\n      <td>None</td>\n      <td>user</td>\n      <td>enabled</td>\n    </tr>\n  </tbody>\n</table>\n</div>"
     },
     "metadata": {},
     "execution_count": 63
    }
   ],
   "source": [
    "users.head()"
   ]
  },
  {
   "cell_type": "code",
   "execution_count": 62,
   "metadata": {},
   "outputs": [],
   "source": [
    "users[\"password\"] = None\n",
    "users[\"password\"] = users[\"password\"].apply(lambda x: bcrypt.hashpw(b\"password\", bcrypt.gensalt()))\n",
    "users[\"password\"] = users[\"password\"].str.decode(\"utf-8\")"
   ]
  },
  {
   "cell_type": "code",
   "execution_count": 35,
   "metadata": {},
   "outputs": [],
   "source": [
    "users[\"avatar\"] = None"
   ]
  },
  {
   "cell_type": "code",
   "execution_count": 37,
   "metadata": {},
   "outputs": [],
   "source": [
    "users[\"role\"] = \"user\""
   ]
  },
  {
   "cell_type": "code",
   "execution_count": 39,
   "metadata": {},
   "outputs": [],
   "source": [
    "users[\"status\"] = \"enabled\""
   ]
  },
  {
   "cell_type": "code",
   "execution_count": 40,
   "metadata": {},
   "outputs": [],
   "source": [
    "users[\"gender\"] = users[\"gender\"].apply(lambda x: x.lower())"
   ]
  },
  {
   "cell_type": "code",
   "execution_count": 60,
   "metadata": {},
   "outputs": [],
   "source": [
    "users[\"id\"] = None\n",
    "users[\"id\"] = users[\"id\"].apply(lambda x: uuid.uuid4())"
   ]
  },
  {
   "cell_type": "code",
   "execution_count": 56,
   "metadata": {},
   "outputs": [],
   "source": [
    "users = users[[\"id\", \"first_name\", \"last_name\", \"username\", \"password\", \"gender\", \"avatar\", \"role\", \"status\"]]"
   ]
  },
  {
   "cell_type": "code",
   "execution_count": 65,
   "metadata": {},
   "outputs": [],
   "source": [
    "users.to_csv(r\"users.csv\", index=False)"
   ]
  },
  {
   "cell_type": "code",
   "execution_count": 11,
   "metadata": {},
   "outputs": [],
   "source": [
    "friends = []\n",
    "\n",
    "def connect(user_id, friend_id):\n",
    "    temp = {}\n",
    "    temp[\"user_id\"] = user_id\n",
    "    temp[\"friend_id\"] = friend_id\n",
    "    return temp\n",
    "\n",
    "for user in users.values:\n",
    "    n_friends = rnd.randint(4, 10)\n",
    "    sample = users.sample(n_friends)\n",
    "    for friend in sample.values:\n",
    "        friends.append(connect(user[0], friend[0]))\n",
    "        friends.append(connect(friend[0], user[0]))\n",
    "friends = pd.DataFrame(data=friends)"
   ]
  },
  {
   "cell_type": "code",
   "execution_count": 30,
   "metadata": {},
   "outputs": [
    {
     "output_type": "execute_result",
     "data": {
      "text/plain": [
       "                                     id                               user_id  \\\n",
       "0  8d9c48af-5538-4978-8e7d-ac97673ca0ef  90d92239-0f76-48e5-a994-86b41bb32e0f   \n",
       "1  fab7297a-5407-4a0a-9ef3-873afb5faa24  502b4ea5-2eb5-40a5-8fba-80a5f0a53c59   \n",
       "2  57f81c12-7ebd-4346-9e3e-8d4ae32c1c51  90d92239-0f76-48e5-a994-86b41bb32e0f   \n",
       "3  ba01c81d-238a-404a-9f65-955c4a794d02  e356a2a2-bde3-4d14-a30a-c7dab108e7fa   \n",
       "4  a871108f-6cc7-4eb8-857a-d89f448a5a16  90d92239-0f76-48e5-a994-86b41bb32e0f   \n",
       "\n",
       "                              friend_id  \n",
       "0  502b4ea5-2eb5-40a5-8fba-80a5f0a53c59  \n",
       "1  90d92239-0f76-48e5-a994-86b41bb32e0f  \n",
       "2  e356a2a2-bde3-4d14-a30a-c7dab108e7fa  \n",
       "3  90d92239-0f76-48e5-a994-86b41bb32e0f  \n",
       "4  0d5907ee-e584-4871-adfe-b67bed754d38  "
      ],
      "text/html": "<div>\n<style scoped>\n    .dataframe tbody tr th:only-of-type {\n        vertical-align: middle;\n    }\n\n    .dataframe tbody tr th {\n        vertical-align: top;\n    }\n\n    .dataframe thead th {\n        text-align: right;\n    }\n</style>\n<table border=\"1\" class=\"dataframe\">\n  <thead>\n    <tr style=\"text-align: right;\">\n      <th></th>\n      <th>id</th>\n      <th>user_id</th>\n      <th>friend_id</th>\n    </tr>\n  </thead>\n  <tbody>\n    <tr>\n      <th>0</th>\n      <td>8d9c48af-5538-4978-8e7d-ac97673ca0ef</td>\n      <td>90d92239-0f76-48e5-a994-86b41bb32e0f</td>\n      <td>502b4ea5-2eb5-40a5-8fba-80a5f0a53c59</td>\n    </tr>\n    <tr>\n      <th>1</th>\n      <td>fab7297a-5407-4a0a-9ef3-873afb5faa24</td>\n      <td>502b4ea5-2eb5-40a5-8fba-80a5f0a53c59</td>\n      <td>90d92239-0f76-48e5-a994-86b41bb32e0f</td>\n    </tr>\n    <tr>\n      <th>2</th>\n      <td>57f81c12-7ebd-4346-9e3e-8d4ae32c1c51</td>\n      <td>90d92239-0f76-48e5-a994-86b41bb32e0f</td>\n      <td>e356a2a2-bde3-4d14-a30a-c7dab108e7fa</td>\n    </tr>\n    <tr>\n      <th>3</th>\n      <td>ba01c81d-238a-404a-9f65-955c4a794d02</td>\n      <td>e356a2a2-bde3-4d14-a30a-c7dab108e7fa</td>\n      <td>90d92239-0f76-48e5-a994-86b41bb32e0f</td>\n    </tr>\n    <tr>\n      <th>4</th>\n      <td>a871108f-6cc7-4eb8-857a-d89f448a5a16</td>\n      <td>90d92239-0f76-48e5-a994-86b41bb32e0f</td>\n      <td>0d5907ee-e584-4871-adfe-b67bed754d38</td>\n    </tr>\n  </tbody>\n</table>\n</div>"
     },
     "metadata": {},
     "execution_count": 30
    }
   ],
   "source": [
    "friends.head()"
   ]
  },
  {
   "cell_type": "code",
   "execution_count": 27,
   "metadata": {},
   "outputs": [],
   "source": [
    "friends[\"id\"] = None\n",
    "friends[\"id\"] = friends[\"id\"].apply(lambda x: uuid.uuid4())"
   ]
  },
  {
   "cell_type": "code",
   "execution_count": 29,
   "metadata": {},
   "outputs": [],
   "source": [
    "friends = friends[[\"id\", \"user_id\", \"friend_id\"]]"
   ]
  },
  {
   "cell_type": "code",
   "execution_count": 31,
   "metadata": {},
   "outputs": [],
   "source": [
    "friends.to_csv(r\"friends.csv\", index=False)"
   ]
  },
  {
   "cell_type": "code",
   "execution_count": 32,
   "metadata": {},
   "outputs": [],
   "source": [
    "communities = pd.concat([pd.read_csv(r\"communities1.csv\"), pd.read_csv(r\"communities2.csv\"), pd.read_csv(r\"communities3.csv\"), pd.read_csv(r\"communities4.csv\"), pd.read_csv(r\"communities5.csv\")])"
   ]
  },
  {
   "cell_type": "code",
   "execution_count": 40,
   "metadata": {},
   "outputs": [
    {
     "output_type": "execute_result",
     "data": {
      "text/plain": [
       "                                     id  \\\n",
       "0  c8bcd0d0-6ffd-46ed-91b5-dbcde0d7cd19   \n",
       "1  8069d052-df53-4576-bfa5-9b805e469cdf   \n",
       "2  d279f500-01de-43c9-99ea-9e4f4a6e8cab   \n",
       "3  60180551-036d-49b0-8694-7b8f12dad049   \n",
       "4  62e58c34-797a-4fd5-b235-9b275c3fd636   \n",
       "\n",
       "                                         description  \\\n",
       "0  Nullam sit amet turpis elementum ligula vehicu...   \n",
       "1  Vestibulum ac est lacinia nisi venenatis trist...   \n",
       "2  Nullam porttitor lacus at turpis. Donec posuer...   \n",
       "3  Proin leo odio, porttitor id, consequat in, co...   \n",
       "4  Fusce consequat. Nulla nisl. Nunc nisl.\\n\\nDui...   \n",
       "\n",
       "                            title main_image  \\\n",
       "0   Medhurst, Lindgren and Abbott       None   \n",
       "1                    Kirlin Group       None   \n",
       "2                    Muller Group       None   \n",
       "3  Gusikowski, Gleichner and Dach       None   \n",
       "4     Howell, Heller and Shanahan       None   \n",
       "\n",
       "                               admin_id   status  \n",
       "0  00a354bc-4668-40ae-b68e-9652721ef776  enabled  \n",
       "1  6791734b-5dbc-4b02-acd8-63f874127c4b  enabled  \n",
       "2  0a1260c7-7e61-4787-8bc8-61f32baa0342  enabled  \n",
       "3  b08950b4-e868-4d5a-a2d0-9e7c0dff7aa1  enabled  \n",
       "4  66774f7e-50a1-4152-b8f5-530668ac103c  enabled  "
      ],
      "text/html": "<div>\n<style scoped>\n    .dataframe tbody tr th:only-of-type {\n        vertical-align: middle;\n    }\n\n    .dataframe tbody tr th {\n        vertical-align: top;\n    }\n\n    .dataframe thead th {\n        text-align: right;\n    }\n</style>\n<table border=\"1\" class=\"dataframe\">\n  <thead>\n    <tr style=\"text-align: right;\">\n      <th></th>\n      <th>id</th>\n      <th>description</th>\n      <th>title</th>\n      <th>main_image</th>\n      <th>admin_id</th>\n      <th>status</th>\n    </tr>\n  </thead>\n  <tbody>\n    <tr>\n      <th>0</th>\n      <td>c8bcd0d0-6ffd-46ed-91b5-dbcde0d7cd19</td>\n      <td>Nullam sit amet turpis elementum ligula vehicu...</td>\n      <td>Medhurst, Lindgren and Abbott</td>\n      <td>None</td>\n      <td>00a354bc-4668-40ae-b68e-9652721ef776</td>\n      <td>enabled</td>\n    </tr>\n    <tr>\n      <th>1</th>\n      <td>8069d052-df53-4576-bfa5-9b805e469cdf</td>\n      <td>Vestibulum ac est lacinia nisi venenatis trist...</td>\n      <td>Kirlin Group</td>\n      <td>None</td>\n      <td>6791734b-5dbc-4b02-acd8-63f874127c4b</td>\n      <td>enabled</td>\n    </tr>\n    <tr>\n      <th>2</th>\n      <td>d279f500-01de-43c9-99ea-9e4f4a6e8cab</td>\n      <td>Nullam porttitor lacus at turpis. Donec posuer...</td>\n      <td>Muller Group</td>\n      <td>None</td>\n      <td>0a1260c7-7e61-4787-8bc8-61f32baa0342</td>\n      <td>enabled</td>\n    </tr>\n    <tr>\n      <th>3</th>\n      <td>60180551-036d-49b0-8694-7b8f12dad049</td>\n      <td>Proin leo odio, porttitor id, consequat in, co...</td>\n      <td>Gusikowski, Gleichner and Dach</td>\n      <td>None</td>\n      <td>b08950b4-e868-4d5a-a2d0-9e7c0dff7aa1</td>\n      <td>enabled</td>\n    </tr>\n    <tr>\n      <th>4</th>\n      <td>62e58c34-797a-4fd5-b235-9b275c3fd636</td>\n      <td>Fusce consequat. Nulla nisl. Nunc nisl.\\n\\nDui...</td>\n      <td>Howell, Heller and Shanahan</td>\n      <td>None</td>\n      <td>66774f7e-50a1-4152-b8f5-530668ac103c</td>\n      <td>enabled</td>\n    </tr>\n  </tbody>\n</table>\n</div>"
     },
     "metadata": {},
     "execution_count": 40
    }
   ],
   "source": [
    "communities.head()"
   ]
  },
  {
   "cell_type": "code",
   "execution_count": 38,
   "metadata": {},
   "outputs": [],
   "source": [
    "communities[\"main_image\"] = None\n",
    "communities[\"admin_id\"] = None\n",
    "communities[\"admin_id\"] = communities[\"admin_id\"].apply(lambda x: users.sample(1).values[0][0])\n",
    "communities[\"status\"] = \"enabled\""
   ]
  },
  {
   "cell_type": "code",
   "execution_count": 52,
   "metadata": {},
   "outputs": [],
   "source": [
    "communities[\"title\"] = communities[\"title\"].apply(lambda x: x.replace(\"\\n\", \"\"))"
   ]
  },
  {
   "cell_type": "code",
   "execution_count": 53,
   "metadata": {},
   "outputs": [],
   "source": [
    "communities[\"description\"] = communities[\"description\"].apply(lambda x: x.replace(\"\\n\", \"\"))"
   ]
  },
  {
   "cell_type": "code",
   "execution_count": 55,
   "metadata": {},
   "outputs": [],
   "source": [
    "communities = communities[[\"id\", \"title\", \"main_image\", \"description\", \"admin_id\", \"status\"]]"
   ]
  },
  {
   "cell_type": "code",
   "execution_count": 56,
   "metadata": {},
   "outputs": [],
   "source": [
    "communities.to_csv(r\"communities.csv\", index=False)"
   ]
  },
  {
   "cell_type": "code",
   "execution_count": 73,
   "metadata": {},
   "outputs": [],
   "source": [
    "recycling_points = pd.read_csv(r\"recycling_points.csv\")"
   ]
  },
  {
   "cell_type": "code",
   "execution_count": 100,
   "metadata": {},
   "outputs": [
    {
     "output_type": "execute_result",
     "data": {
      "text/plain": [
       "                        title                address           working_time  \\\n",
       "0  Kazakhstan Waste Recycling     ST. Valikhanov, 70  mon - fri 10:00-17:30   \n",
       "1  Kazakhstan Waste Recycling            Md. Duman 2  mon - fri 10:00-17:30   \n",
       "2  Kazakhstan Waste Recycling       St. Makataeva 50  mon - fri 10:00-17:30   \n",
       "3              IB. Nurzhanova  St.Bogenbai Batir 266  mon - fri 08:00-19:00   \n",
       "4  Kazakhstan Waste Recycling              Md. 8, 57  mon - fri 10:00-17:30   \n",
       "\n",
       "        site       type        phone               additional_info  \\\n",
       "0  kagazy.kz  recycling  77272458133  No additional info available   \n",
       "1  kagazy.kz  recycling  77272458133  Only clear glass is accepted   \n",
       "2  kagazy.kz  recycling  77272458133  Only clear glass is accepted   \n",
       "3       None  recycling  77014117933  No additional info available   \n",
       "4  kagazy.kz  recycling  77272458133  No additional info available   \n",
       "\n",
       "                                             accepts         price  \\\n",
       "0  cardboard, wastepaper, polyethylene, aluminum ...   contractual   \n",
       "1  cardboard, wastepaper, aluminum cans, glasswar...   contractual   \n",
       "2  cardboard, wastepaper, aluminum cans, glasswar...   contractual   \n",
       "3  glassware, plastic, metal, polyethylene, alumi...   contractual   \n",
       "4   cardboard, wastepaper, aluminum cans, glassware,   contractual   \n",
       "\n",
       "     latitude   longitude    city  \n",
       "0  43,2560864  76,9517978  almaty  \n",
       "1  43,2859666  77,0060658  almaty  \n",
       "2   43,264916   76,955172  almaty  \n",
       "3  43,2520407   76,930628  almaty  \n",
       "4  43,2271452   76,867772  almaty  "
      ],
      "text/html": "<div>\n<style scoped>\n    .dataframe tbody tr th:only-of-type {\n        vertical-align: middle;\n    }\n\n    .dataframe tbody tr th {\n        vertical-align: top;\n    }\n\n    .dataframe thead th {\n        text-align: right;\n    }\n</style>\n<table border=\"1\" class=\"dataframe\">\n  <thead>\n    <tr style=\"text-align: right;\">\n      <th></th>\n      <th>title</th>\n      <th>address</th>\n      <th>working_time</th>\n      <th>site</th>\n      <th>type</th>\n      <th>phone</th>\n      <th>additional_info</th>\n      <th>accepts</th>\n      <th>price</th>\n      <th>latitude</th>\n      <th>longitude</th>\n      <th>city</th>\n    </tr>\n  </thead>\n  <tbody>\n    <tr>\n      <th>0</th>\n      <td>Kazakhstan Waste Recycling</td>\n      <td>ST. Valikhanov, 70</td>\n      <td>mon - fri 10:00-17:30</td>\n      <td>kagazy.kz</td>\n      <td>recycling</td>\n      <td>77272458133</td>\n      <td>No additional info available</td>\n      <td>cardboard, wastepaper, polyethylene, aluminum ...</td>\n      <td>contractual</td>\n      <td>43,2560864</td>\n      <td>76,9517978</td>\n      <td>almaty</td>\n    </tr>\n    <tr>\n      <th>1</th>\n      <td>Kazakhstan Waste Recycling</td>\n      <td>Md. Duman 2</td>\n      <td>mon - fri 10:00-17:30</td>\n      <td>kagazy.kz</td>\n      <td>recycling</td>\n      <td>77272458133</td>\n      <td>Only clear glass is accepted</td>\n      <td>cardboard, wastepaper, aluminum cans, glasswar...</td>\n      <td>contractual</td>\n      <td>43,2859666</td>\n      <td>77,0060658</td>\n      <td>almaty</td>\n    </tr>\n    <tr>\n      <th>2</th>\n      <td>Kazakhstan Waste Recycling</td>\n      <td>St. Makataeva 50</td>\n      <td>mon - fri 10:00-17:30</td>\n      <td>kagazy.kz</td>\n      <td>recycling</td>\n      <td>77272458133</td>\n      <td>Only clear glass is accepted</td>\n      <td>cardboard, wastepaper, aluminum cans, glasswar...</td>\n      <td>contractual</td>\n      <td>43,264916</td>\n      <td>76,955172</td>\n      <td>almaty</td>\n    </tr>\n    <tr>\n      <th>3</th>\n      <td>IB. Nurzhanova</td>\n      <td>St.Bogenbai Batir 266</td>\n      <td>mon - fri 08:00-19:00</td>\n      <td>None</td>\n      <td>recycling</td>\n      <td>77014117933</td>\n      <td>No additional info available</td>\n      <td>glassware, plastic, metal, polyethylene, alumi...</td>\n      <td>contractual</td>\n      <td>43,2520407</td>\n      <td>76,930628</td>\n      <td>almaty</td>\n    </tr>\n    <tr>\n      <th>4</th>\n      <td>Kazakhstan Waste Recycling</td>\n      <td>Md. 8, 57</td>\n      <td>mon - fri 10:00-17:30</td>\n      <td>kagazy.kz</td>\n      <td>recycling</td>\n      <td>77272458133</td>\n      <td>No additional info available</td>\n      <td>cardboard, wastepaper, aluminum cans, glassware,</td>\n      <td>contractual</td>\n      <td>43,2271452</td>\n      <td>76,867772</td>\n      <td>almaty</td>\n    </tr>\n  </tbody>\n</table>\n</div>"
     },
     "metadata": {},
     "execution_count": 100
    }
   ],
   "source": [
    "recycling_points.head()"
   ]
  },
  {
   "cell_type": "code",
   "execution_count": 63,
   "metadata": {},
   "outputs": [],
   "source": [
    "recycling_points[\"title\"] = recycling_points[\"title\"].apply(lambda x: x.strip())"
   ]
  },
  {
   "cell_type": "code",
   "execution_count": 69,
   "metadata": {},
   "outputs": [],
   "source": [
    "recycling_points[\"address\"] = recycling_points[\"address\"].apply(lambda x: x.strip())"
   ]
  },
  {
   "cell_type": "code",
   "execution_count": 75,
   "metadata": {},
   "outputs": [],
   "source": [
    "recycling_points[\"working_time\"] = recycling_points[\"working_time\"].apply(lambda x: x.strip())"
   ]
  },
  {
   "cell_type": "code",
   "execution_count": 83,
   "metadata": {},
   "outputs": [],
   "source": [
    "recycling_points[\"site\"] = recycling_points[\"site\"].apply(lambda x: None if x == \"none\" else x)"
   ]
  },
  {
   "cell_type": "code",
   "execution_count": 94,
   "metadata": {},
   "outputs": [],
   "source": [
    "recycling_points[\"phone\"] = recycling_points[\"phone\"].apply(lambda x: x.replace(\"'\", \"\").replace(\"+\", \"\").replace(\" \", \"\").replace(\"(\", \"\").replace(\")\", \"\").replace(\"‒\", \"\"))"
   ]
  },
  {
   "cell_type": "code",
   "execution_count": 97,
   "metadata": {},
   "outputs": [],
   "source": [
    "recycling_points[\"working_time\"] = recycling_points[\"working_time\"].apply(lambda x: x.strip())"
   ]
  },
  {
   "cell_type": "code",
   "execution_count": 99,
   "metadata": {},
   "outputs": [],
   "source": [
    "recycling_points[\"additional_info\"] = recycling_points[\"additional_info\"].apply(lambda x: x.strip())"
   ]
  },
  {
   "cell_type": "code",
   "execution_count": 101,
   "metadata": {},
   "outputs": [],
   "source": [
    "recycling_points.to_csv(r\"recycling_points.csv\", index=False)"
   ]
  }
 ]
}